{
 "cells": [
  {
   "cell_type": "markdown",
   "metadata": {},
   "source": [
    "# Access Database using Python"
   ]
  },
  {
   "cell_type": "markdown",
   "metadata": {},
   "source": [
    "# Establish Connection btwn Python & MySQLDB"
   ]
  },
  {
   "cell_type": "markdown",
   "metadata": {},
   "source": [
    "# Integrate Python with backend MYSQL"
   ]
  },
  {
   "cell_type": "code",
   "execution_count": null,
   "metadata": {
    "collapsed": true
   },
   "outputs": [],
   "source": [
    "# Need a conncetor btwn MYSQL AND PYTHON"
   ]
  },
  {
   "cell_type": "markdown",
   "metadata": {},
   "source": [
    "# Create Databases"
   ]
  },
  {
   "cell_type": "markdown",
   "metadata": {},
   "source": [
    "# Show databases"
   ]
  },
  {
   "cell_type": "markdown",
   "metadata": {},
   "source": [
    "# Fetch Databases"
   ]
  },
  {
   "cell_type": "markdown",
   "metadata": {},
   "source": [
    "# Create Table"
   ]
  },
  {
   "cell_type": "markdown",
   "metadata": {},
   "source": [
    "# insert values/records"
   ]
  },
  {
   "cell_type": "markdown",
   "metadata": {},
   "source": [
    "pip install mysql-connector"
   ]
  },
  {
   "cell_type": "markdown",
   "metadata": {},
   "source": [
    "# Open database connection"
   ]
  },
  {
   "cell_type": "code",
   "execution_count": 74,
   "metadata": {
    "collapsed": true
   },
   "outputs": [],
   "source": [
    "import mysql.connector"
   ]
  },
  {
   "cell_type": "code",
   "execution_count": 75,
   "metadata": {
    "collapsed": true
   },
   "outputs": [],
   "source": [
    "mydb= mysql.connector.connect(host=\"localhost\",user=\"root\",passwd=\"root\",database=\"class\")"
   ]
  },
  {
   "cell_type": "code",
   "execution_count": 76,
   "metadata": {},
   "outputs": [
    {
     "name": "stdout",
     "output_type": "stream",
     "text": [
      "<mysql.connector.connection.MySQLConnection object at 0x0000023A59067AC8>\n"
     ]
    }
   ],
   "source": [
    "print(mydb)"
   ]
  },
  {
   "cell_type": "markdown",
   "metadata": {},
   "source": [
    "#To check if connection has eashtablished or not"
   ]
  },
  {
   "cell_type": "code",
   "execution_count": 77,
   "metadata": {},
   "outputs": [
    {
     "name": "stdout",
     "output_type": "stream",
     "text": [
      "connection succcessful\n"
     ]
    }
   ],
   "source": [
    "if(mydb):\n",
    "    print(\"connection succcessful\")\n",
    "else:\n",
    "    print(\"connection unsuccessful\")"
   ]
  },
  {
   "cell_type": "markdown",
   "metadata": {},
   "source": [
    "# prepare a cursor object using cursor() method"
   ]
  },
  {
   "cell_type": "markdown",
   "metadata": {},
   "source": [
    "method cursor works like a pointer"
   ]
  },
  {
   "cell_type": "code",
   "execution_count": 78,
   "metadata": {
    "collapsed": true
   },
   "outputs": [],
   "source": [
    "mycursor=mydb.cursor()"
   ]
  },
  {
   "cell_type": "markdown",
   "metadata": {},
   "source": [
    "Here all the database has stored in cursor"
   ]
  },
  {
   "cell_type": "markdown",
   "metadata": {},
   "source": [
    "Show databases"
   ]
  },
  {
   "cell_type": "markdown",
   "metadata": {},
   "source": [
    "# execute SQL query using execute() method"
   ]
  },
  {
   "cell_type": "code",
   "execution_count": 79,
   "metadata": {},
   "outputs": [],
   "source": [
    "mycursor.execute(\"show databases\")"
   ]
  },
  {
   "cell_type": "markdown",
   "metadata": {},
   "source": [
    "to fectch all the databases"
   ]
  },
  {
   "cell_type": "code",
   "execution_count": 80,
   "metadata": {
    "scrolled": true
   },
   "outputs": [
    {
     "name": "stdout",
     "output_type": "stream",
     "text": [
      "('information_schema',)\n",
      "('class',)\n",
      "('class2',)\n",
      "('dstraining',)\n",
      "('fingertips',)\n",
      "('hr',)\n",
      "('mysql',)\n",
      "('performance_schema',)\n",
      "('sakila',)\n",
      "('shalini',)\n",
      "('sys',)\n",
      "('world',)\n"
     ]
    }
   ],
   "source": [
    "for i in mycursor:\n",
    "    print(i)\n"
   ]
  },
  {
   "cell_type": "markdown",
   "metadata": {},
   "source": [
    "Need to mention database"
   ]
  },
  {
   "cell_type": "markdown",
   "metadata": {},
   "source": [
    "show table"
   ]
  },
  {
   "cell_type": "code",
   "execution_count": 85,
   "metadata": {},
   "outputs": [],
   "source": [
    "mycursor.execute(\"select * from worker\")"
   ]
  },
  {
   "cell_type": "code",
   "execution_count": 84,
   "metadata": {},
   "outputs": [
    {
     "name": "stdout",
     "output_type": "stream",
     "text": [
      "(1, 'Monika', 'Arora', 100000, datetime.datetime(2014, 2, 20, 9, 0), 'HR', None)\n",
      "(2, 'Niharika', 'Verma', 80000, datetime.datetime(2014, 6, 11, 9, 0), 'Admin', None)\n",
      "(3, 'Vishal', 'Singhal', 300000, datetime.datetime(2014, 2, 20, 9, 0), 'HR', None)\n",
      "(4, 'Amitabh', 'Singh', 500000, datetime.datetime(2014, 2, 20, 9, 0), 'Admin', None)\n",
      "(5, 'Vivek', 'Bhatt', 500000, datetime.datetime(2014, 6, 11, 9, 0), 'Admin', None)\n",
      "(6, 'Vipul', 'Diwan', 300000, datetime.datetime(2014, 6, 11, 9, 0), 'Mktng', None)\n",
      "(7, 'Satish', 'Kumar', 75000, datetime.datetime(2014, 1, 20, 9, 0), 'Mktng', None)\n",
      "(8, 'Geetika', 'Chauhan', 9000, datetime.datetime(2014, 4, 11, 9, 0), 'Admin', None)\n"
     ]
    }
   ],
   "source": [
    "for i in mycursor:\n",
    "    print(i)"
   ]
  },
  {
   "cell_type": "markdown",
   "metadata": {},
   "source": [
    "Storing data in another object"
   ]
  },
  {
   "cell_type": "code",
   "execution_count": 86,
   "metadata": {},
   "outputs": [],
   "source": [
    "result=mycursor.fetchall()"
   ]
  },
  {
   "cell_type": "code",
   "execution_count": 87,
   "metadata": {
    "scrolled": true
   },
   "outputs": [
    {
     "name": "stdout",
     "output_type": "stream",
     "text": [
      "(1, 'Monika', 'Arora', 100000, datetime.datetime(2014, 2, 20, 9, 0), 'HR', None)\n",
      "(2, 'Niharika', 'Verma', 80000, datetime.datetime(2014, 6, 11, 9, 0), 'Admin', None)\n",
      "(3, 'Vishal', 'Singhal', 300000, datetime.datetime(2014, 2, 20, 9, 0), 'HR', None)\n",
      "(4, 'Amitabh', 'Singh', 500000, datetime.datetime(2014, 2, 20, 9, 0), 'Admin', None)\n",
      "(5, 'Vivek', 'Bhatt', 500000, datetime.datetime(2014, 6, 11, 9, 0), 'Admin', None)\n",
      "(6, 'Vipul', 'Diwan', 300000, datetime.datetime(2014, 6, 11, 9, 0), 'Mktng', None)\n",
      "(7, 'Satish', 'Kumar', 75000, datetime.datetime(2014, 1, 20, 9, 0), 'Mktng', None)\n",
      "(8, 'Geetika', 'Chauhan', 9000, datetime.datetime(2014, 4, 11, 9, 0), 'Admin', None)\n"
     ]
    }
   ],
   "source": [
    "for i in result:\n",
    "    print(i)"
   ]
  },
  {
   "cell_type": "markdown",
   "metadata": {},
   "source": [
    "# Fetch a single row using fetchone() method"
   ]
  },
  {
   "cell_type": "code",
   "execution_count": 94,
   "metadata": {},
   "outputs": [],
   "source": [
    "result=mycursor.fetchone()"
   ]
  },
  {
   "cell_type": "code",
   "execution_count": 99,
   "metadata": {},
   "outputs": [],
   "source": [
    "result=mycursor.fetchone()"
   ]
  },
  {
   "cell_type": "code",
   "execution_count": 100,
   "metadata": {},
   "outputs": [
    {
     "name": "stdout",
     "output_type": "stream",
     "text": [
      "None\n"
     ]
    }
   ],
   "source": [
    "print(result)"
   ]
  },
  {
   "cell_type": "code",
   "execution_count": 96,
   "metadata": {},
   "outputs": [
    {
     "name": "stdout",
     "output_type": "stream",
     "text": [
      "None\n"
     ]
    }
   ],
   "source": [
    "print(result)"
   ]
  },
  {
   "cell_type": "markdown",
   "metadata": {},
   "source": [
    "# disconnect from server"
   ]
  },
  {
   "cell_type": "code",
   "execution_count": 101,
   "metadata": {
    "collapsed": true
   },
   "outputs": [],
   "source": [
    "mydb.close()"
   ]
  },
  {
   "cell_type": "markdown",
   "metadata": {},
   "source": [
    "#Create new database"
   ]
  },
  {
   "cell_type": "code",
   "execution_count": 43,
   "metadata": {
    "collapsed": true
   },
   "outputs": [],
   "source": [
    "mycursor.execute(\"create database DSTraining\")"
   ]
  },
  {
   "cell_type": "code",
   "execution_count": 44,
   "metadata": {
    "collapsed": true
   },
   "outputs": [],
   "source": [
    "mycursor.execute(\"show databases\")"
   ]
  },
  {
   "cell_type": "code",
   "execution_count": 45,
   "metadata": {
    "scrolled": true
   },
   "outputs": [
    {
     "name": "stdout",
     "output_type": "stream",
     "text": [
      "('information_schema',)\n",
      "('class',)\n",
      "('class2',)\n",
      "('dstraining',)\n",
      "('fingertips',)\n",
      "('hr',)\n",
      "('mysql',)\n",
      "('performance_schema',)\n",
      "('sakila',)\n",
      "('shalini',)\n",
      "('sys',)\n",
      "('world',)\n"
     ]
    }
   ],
   "source": [
    "for i in mycursor:\n",
    "    print(i)"
   ]
  },
  {
   "cell_type": "markdown",
   "metadata": {},
   "source": [
    "mycursor.execute(\"create database DSTraining\")"
   ]
  },
  {
   "cell_type": "markdown",
   "metadata": {},
   "source": [
    "# Create Table in Database"
   ]
  },
  {
   "cell_type": "markdown",
   "metadata": {},
   "source": [
    "Once a database connection is established, we are ready to create tables or records into the database tables using execute method of the created cursor."
   ]
  },
  {
   "cell_type": "code",
   "execution_count": null,
   "metadata": {
    "collapsed": true
   },
   "outputs": [],
   "source": [
    "mydb= mysql.connector.connect(host=\"localhost\",user=\"root\",passwd=\"root\",database=\"class\")"
   ]
  },
  {
   "cell_type": "code",
   "execution_count": null,
   "metadata": {
    "collapsed": true
   },
   "outputs": [],
   "source": [
    "mycursor=mydb.cursor()"
   ]
  },
  {
   "cell_type": "code",
   "execution_count": 46,
   "metadata": {
    "collapsed": true
   },
   "outputs": [],
   "source": [
    "mycursor.execute(\"create table trainees(\n",
    "                 Name varchar(10),\n",
    "                 Age int(2))\")"
   ]
  },
  {
   "cell_type": "code",
   "execution_count": 61,
   "metadata": {
    "collapsed": true
   },
   "outputs": [],
   "source": [
    "mycursor.execute(\"show tables\")"
   ]
  },
  {
   "cell_type": "code",
   "execution_count": 62,
   "metadata": {},
   "outputs": [
    {
     "name": "stdout",
     "output_type": "stream",
     "text": [
      "('atheletes',)\n",
      "('bonus',)\n",
      "('cust',)\n",
      "('department',)\n",
      "('employee',)\n",
      "('evening_session',)\n",
      "('flight_fare',)\n",
      "('flight_fare2',)\n",
      "('flight_table',)\n",
      "('hr_department',)\n",
      "('manufacturers',)\n",
      "('new_table',)\n",
      "('orders',)\n",
      "('persons',)\n",
      "('persons2',)\n",
      "('product',)\n",
      "('salespeople',)\n",
      "('solution_assi_3',)\n",
      "('studedents',)\n",
      "('students',)\n",
      "('test_table',)\n",
      "('title',)\n",
      "('trainees',)\n",
      "('weekend_table',)\n",
      "('wine_table',)\n",
      "('worker',)\n",
      "('worker2',)\n",
      "('worker3',)\n",
      "('worker4',)\n",
      "('worker5',)\n",
      "('workerclone',)\n"
     ]
    }
   ],
   "source": [
    "for i in mycursor:\n",
    "    print(i)"
   ]
  },
  {
   "cell_type": "markdown",
   "metadata": {},
   "source": [
    "# Insert values in table"
   ]
  },
  {
   "cell_type": "markdown",
   "metadata": {},
   "source": [
    "The following example, executes SQL INSERT statement to create a record into trainee table"
   ]
  },
  {
   "cell_type": "markdown",
   "metadata": {},
   "source": [
    "%s=place holder"
   ]
  },
  {
   "cell_type": "code",
   "execution_count": 9,
   "metadata": {
    "collapsed": true
   },
   "outputs": [],
   "source": [
    "sqlform=\"insert into trainees(Name,Age) values(%s,%s)\""
   ]
  },
  {
   "cell_type": "markdown",
   "metadata": {},
   "source": [
    "# Creating a tupple"
   ]
  },
  {
   "cell_type": "code",
   "execution_count": 11,
   "metadata": {
    "collapsed": true
   },
   "outputs": [],
   "source": [
    "trainees=[(\"Piyush\",20),(\"Rudresh\",20),(\"Swanand\",20),(\"Tirth\",20),]"
   ]
  },
  {
   "cell_type": "code",
   "execution_count": 58,
   "metadata": {},
   "outputs": [
    {
     "data": {
      "text/plain": [
       "[('Piyush', 20), ('Rudresh', 20), ('Swanand', 20), ('Tirth', 20)]"
      ]
     },
     "execution_count": 58,
     "metadata": {},
     "output_type": "execute_result"
    }
   ],
   "source": [
    "trainees"
   ]
  },
  {
   "cell_type": "code",
   "execution_count": 6,
   "metadata": {},
   "outputs": [],
   "source": [
    "mydb= mysql.connector.connect(host=\"localhost\",user=\"root\",passwd=\"root\",database=\"class\")"
   ]
  },
  {
   "cell_type": "code",
   "execution_count": 7,
   "metadata": {
    "collapsed": true
   },
   "outputs": [],
   "source": [
    "mycursor=mydb.cursor()"
   ]
  },
  {
   "cell_type": "code",
   "execution_count": 12,
   "metadata": {},
   "outputs": [],
   "source": [
    "mycursor.executemany(sqlform, trainees)"
   ]
  },
  {
   "cell_type": "code",
   "execution_count": 13,
   "metadata": {
    "collapsed": true
   },
   "outputs": [],
   "source": [
    "mydb.commit()"
   ]
  },
  {
   "cell_type": "code",
   "execution_count": 14,
   "metadata": {},
   "outputs": [],
   "source": [
    "myresult=mycursor.execute(\"select * from trainees\")"
   ]
  },
  {
   "cell_type": "code",
   "execution_count": 65,
   "metadata": {
    "scrolled": true
   },
   "outputs": [
    {
     "name": "stdout",
     "output_type": "stream",
     "text": [
      "('Piyush', 20)\n",
      "('Rudresh', 20)\n",
      "('Swanand', 20)\n",
      "('Tirth', 20)\n"
     ]
    }
   ],
   "source": [
    "for i in trainees:\n",
    "    print(i)"
   ]
  },
  {
   "cell_type": "code",
   "execution_count": 15,
   "metadata": {},
   "outputs": [],
   "source": [
    "result=mycursor.fetchone()"
   ]
  },
  {
   "cell_type": "code",
   "execution_count": 16,
   "metadata": {},
   "outputs": [
    {
     "name": "stdout",
     "output_type": "stream",
     "text": [
      "('Piyush', 20)\n"
     ]
    }
   ],
   "source": [
    "print(result)"
   ]
  },
  {
   "cell_type": "code",
   "execution_count": 17,
   "metadata": {
    "collapsed": true
   },
   "outputs": [],
   "source": [
    "result=mycursor.fetchall()"
   ]
  },
  {
   "cell_type": "code",
   "execution_count": 18,
   "metadata": {},
   "outputs": [
    {
     "name": "stdout",
     "output_type": "stream",
     "text": [
      "('Rudresh', 20)\n",
      "('Swanand', 20)\n",
      "('Tirth', 20)\n",
      "('Piyush', 20)\n",
      "('Rudresh', 20)\n",
      "('Swanand', 20)\n",
      "('Tirth', 20)\n"
     ]
    }
   ],
   "source": [
    "for i in result:\n",
    "    print(i)"
   ]
  }
 ],
 "metadata": {
  "kernelspec": {
   "display_name": "Python 3 (ipykernel)",
   "language": "python",
   "name": "python3"
  },
  "language_info": {
   "codemirror_mode": {
    "name": "ipython",
    "version": 3
   },
   "file_extension": ".py",
   "mimetype": "text/x-python",
   "name": "python",
   "nbconvert_exporter": "python",
   "pygments_lexer": "ipython3",
   "version": "3.9.13"
  }
 },
 "nbformat": 4,
 "nbformat_minor": 2
}
